{
 "cells": [
  {
   "cell_type": "markdown",
   "id": "a7615cfb",
   "metadata": {},
   "source": [
    "# [Deep-Neural-Networks 실습 : 실전과제문항]"
   ]
  },
  {
   "cell_type": "markdown",
   "id": "221b9674",
   "metadata": {},
   "source": [
    "## 0.모듈 불러오기"
   ]
  },
  {
   "cell_type": "code",
   "execution_count": null,
   "id": "d8b09490",
   "metadata": {},
   "outputs": [],
   "source": [
    "''' 기본 모듈 및 시각화 모듈 '''\n",
    "import numpy as np\n",
    "import pandas as pd\n",
    "import seaborn as sns\n",
    "import matplotlib.pyplot as plt\n",
    "\n",
    "''' 데이터 전처리 모듈 '''\n",
    "from sklearn.preprocessing import StandardScaler\n",
    "from sklearn.model_selection import train_test_split\n",
    "\n",
    "'''Neural Network을 위한 딥러닝 모듈'''\n",
    "import torch\n",
    "from torch.utils.data import Dataset\n",
    "from torch.utils.data import DataLoader\n",
    "\n",
    "''' 결과 평가용 모듈 '''\n",
    "from sklearn.metrics import confusion_matrix, accuracy_score, f1_score, precision_score, recall_score\n",
    "\n",
    "! git clone https://github.com/hansam95/LG_time_series_day08.git"
   ]
  },
  {
   "cell_type": "markdown",
   "id": "5be0cc96",
   "metadata": {},
   "source": [
    "## 1. 분석데이터 : Fashion-MNIST 의류 이미지"
   ]
  },
  {
   "cell_type": "markdown",
   "id": "3442519c",
   "metadata": {},
   "source": [
    "- 이미지 데이터는 픽셀로 이루어져 있으며, 각 픽셀의 밝기(intensity, 0~255)를 통해 이미지를 나타낼 수 있다.\n",
    "- Fashion-MNIST 데이터는 이런 픽셀 값들을 설명변수(X)로 하여 어떤 의류(Y)에 해당하는 이미지인지 분류하는 문제\n",
    "- Fashion-MNIST 데이터의 이미지는 가로 28 픽셀, 세로 28 픽셀로 이루어져 있으므로 28 x 28 = 784개의 설명변수로 10개의 클래스를 예측하는 다범주 분류문제\n",
    "- 해당 데이터에서의 레이블과 클래스는 아래의 표와 같다.\n",
    "|레이블|클래스|\n",
    "|---|---|\n",
    "|0|T-shirt/top(티셔츠)|\n",
    "|1|Trouser(바지)|\n",
    "|2|Pullover(스웨터)|\n",
    "|3|Dress(드레스)|\n",
    "|4|Coat(코트)|\n",
    "|5|Sandal(샌들)|\n",
    "|6|Shirt(셔츠)|\n",
    "|7|Sneaker(운동화)|\n",
    "|8|Bag(가방)|\n",
    "|9|Ankel boot(발목부츠)|"
   ]
  },
  {
   "cell_type": "markdown",
   "id": "ba31eab7",
   "metadata": {},
   "source": [
    "### 데이터 불러오기"
   ]
  },
  {
   "cell_type": "code",
   "execution_count": null,
   "id": "19a0810c",
   "metadata": {},
   "outputs": [],
   "source": [
    "data = pd.read_csv('''Answer''')"
   ]
  },
  {
   "cell_type": "markdown",
   "id": "4ae1ba80",
   "metadata": {},
   "source": [
    "## 1.1 탐색적 데이터 분석"
   ]
  },
  {
   "cell_type": "markdown",
   "id": "e0b3235a",
   "metadata": {},
   "source": [
    "### 데이터 확인"
   ]
  },
  {
   "cell_type": "code",
   "execution_count": null,
   "id": "e4d503e4",
   "metadata": {},
   "outputs": [],
   "source": [
    "## 불러온 데이터의 shape 확인\n",
    "print('Data shape: {}'.format(data.'''Answer'''))\n",
    "data.head()"
   ]
  },
  {
   "cell_type": "markdown",
   "id": "7abfee52",
   "metadata": {},
   "source": [
    "### 클래스 비율 확인"
   ]
  },
  {
   "cell_type": "code",
   "execution_count": null,
   "id": "203b2444",
   "metadata": {},
   "outputs": [],
   "source": [
    "data['Y'].'''Answer'''"
   ]
  },
  {
   "cell_type": "markdown",
   "id": "28f27e0a",
   "metadata": {},
   "source": [
    "### 예시 이미지 출력"
   ]
  },
  {
   "cell_type": "code",
   "execution_count": null,
   "id": "f8a948a3",
   "metadata": {},
   "outputs": [],
   "source": [
    "## 1번째 데이터의 예시이미지 출력\n",
    "image = data.'''Answer'''\n",
    "plt.imshow(image.reshape(28,28), cmap='gray')\n",
    "plt.axis('off')\n",
    "plt.show()"
   ]
  },
  {
   "cell_type": "markdown",
   "id": "faaf20a1",
   "metadata": {},
   "source": [
    "## 1-2. 모델링: Deep Neural Networks (DNN)"
   ]
  },
  {
   "cell_type": "markdown",
   "id": "4f74a5f4",
   "metadata": {},
   "source": [
    "### Dataset"
   ]
  },
  {
   "cell_type": "code",
   "execution_count": null,
   "id": "56905d1f",
   "metadata": {},
   "outputs": [],
   "source": [
    "class Fashion_MNISTDataset(Dataset):\n",
    "    def __init__(self, data_path, split):\n",
    "        '''데이터 불러오기, 전처리'''\n",
    "\n",
    "        # 데이터 불러오기 및 설명변수(X)와 반응변수(Y)정의\n",
    "        data = pd.read_csv(data_path)\n",
    "        X = '''Answer'''\n",
    "        y = '''Answer'''\n",
    "\n",
    "        # 데이터 나누기 (학습, 검증, 테스트)\n",
    "        train_X, test_X, train_y, test_y = train_test_split(X, y, stratify=y, test_size=0.2, random_state=0)\n",
    "        train_X, valid_X, train_y, valid_y = train_test_split(train_X, train_y, stratify=train_y, test_size=0.2, random_state=0)\n",
    "\n",
    "        # 데이터 정규화\n",
    "        self.scaler = StandardScaler()\n",
    "        train_X = self.scaler.'''Answer'''\n",
    "        valid_X = self.scaler.'''Answer'''\n",
    "        test_X = self.scaler.'''Answer'''\n",
    "\n",
    "        # 데이터셋 지정\n",
    "        if split == 'train':\n",
    "            self.data_X = train_X\n",
    "            self.data_y = train_y\n",
    "        elif split == 'valid':\n",
    "            self.data_X = valid_X\n",
    "            self.data_y = valid_y\n",
    "        elif split == 'test':\n",
    "            self.data_X = test_X\n",
    "            self.data_y = test_y\n",
    "\n",
    "        # numpy array -> Tensor 변환\n",
    "        self.data_X = torch.FloatTensor(self.data_X)\n",
    "        self.data_y = torch.LongTensor(self.data_y)\n",
    "\n",
    "    def __len__(self):\n",
    "        '''데이터셋 개수 정의'''\n",
    "        return len(self.data_X)\n",
    "    \n",
    "    def __getitem__(self, idx):\n",
    "        '''인덱스를 입력받아 데이터를 출력'''\n",
    "        X = self.data_X[idx]\n",
    "        y = self.data_y[idx]\n",
    "        return X, y"
   ]
  },
  {
   "cell_type": "markdown",
   "id": "7542aaae",
   "metadata": {},
   "source": [
    "#### DataLoader"
   ]
  },
  {
   "cell_type": "code",
   "execution_count": null,
   "id": "cc4cde4a",
   "metadata": {},
   "outputs": [],
   "source": [
    "# 학습 데이터\n",
    "train_dataset = Fashion_MNISTDataset(data_path='/content/test/data/Fashion_MNIST_Example.csv', split='train')\n",
    "train_loader = DataLoader(dataset = train_dataset, batch_size = 64, shuffle = True)\n",
    "# 검증 데이터\n",
    "valid_dataset = Fashion_MNISTDataset(data_path='/content/test/data/Fashion_MNIST_Example.csv', split='valid')\n",
    "valid_loader = DataLoader(dataset = valid_dataset, batch_size = 64)\n",
    "# 테스트 데이터\n",
    "test_dataset = Fashion_MNISTDataset(data_path='/content/test/data/Fashion_MNIST_Example.csv', split='test')\n",
    "test_loader = DataLoader(dataset = test_dataset, batch_size = 64)"
   ]
  },
  {
   "cell_type": "markdown",
   "id": "c076a33e",
   "metadata": {},
   "source": [
    "### Model"
   ]
  },
  {
   "cell_type": "code",
   "execution_count": null,
   "id": "ecdce179",
   "metadata": {},
   "outputs": [],
   "source": [
    "class DNN(torch.nn.Module):\n",
    "    def __init__(self, input_dim, hidden_dim, output_dim): \n",
    "        super().__init__()\n",
    "        \n",
    "        ''' 모델에 필요한 layer 정의 ''' \n",
    "               \n",
    "        self.linear1 = torch.nn.Linear(input_dim, hidden_dim[0]) # input_dim(784) -> hidden_dim1(500)\n",
    "        self.linear2 = torch.nn.Linear(hidden_dim[0], hidden_dim[1]) # hidden_dim1(500) -> hidden_dim2(500)\n",
    "        self.linear3 = torch.nn.Linear(hidden_dim[1], hidden_dim[2]) # hidden_dim2(500) -> hidden_dim3(300)\n",
    "        self.linear4 = torch.nn.Linear(hidden_dim[2], output_dim) # hidden_dim3(300) -> output_dim(10)   \n",
    "        self.relu = torch.nn.ReLU() # Relu activation function\n",
    "        \n",
    "    def forward(self, x):\n",
    "        \n",
    "        ''' x를 입력받아 진행할 순서 설정 '''\n",
    "\n",
    "        x = self.relu(self.linear1(x))\n",
    "        x = self.relu(self.linear2(x))\n",
    "        x = self.relu(self.linear3(x))\n",
    "        x = self.linear4(x)\n",
    "\n",
    "        return x"
   ]
  },
  {
   "cell_type": "code",
   "execution_count": null,
   "id": "f57adaa6",
   "metadata": {},
   "outputs": [],
   "source": [
    "# 입력 차원수 \n",
    "input_dim = train_dataset.'''Answer'''\n",
    "# 모델 선언\n",
    "model = DNN(input_dim, [500, 300, 100], 10) # 10=class 개수"
   ]
  },
  {
   "cell_type": "markdown",
   "id": "e7a53127",
   "metadata": {},
   "source": [
    "### 비용함수"
   ]
  },
  {
   "cell_type": "code",
   "execution_count": null,
   "id": "0902a10d",
   "metadata": {},
   "outputs": [],
   "source": [
    "# 비용함수 정의 (분류문제 -> crossentropy 사용)\n",
    "criterion = torch.nn.CrossEntropyLoss()"
   ]
  },
  {
   "cell_type": "markdown",
   "id": "626c924b",
   "metadata": {},
   "source": [
    "### Optimizer"
   ]
  },
  {
   "cell_type": "code",
   "execution_count": null,
   "id": "fc3d672f",
   "metadata": {},
   "outputs": [],
   "source": [
    "# 경사하강법의 종류 정의 (adam)\n",
    "optim = torch.optim.Adam(model.parameters(), lr = 0.0001)"
   ]
  },
  {
   "cell_type": "markdown",
   "id": "37dba00d-fda8-4eab-9bff-d57a78eb3a7f",
   "metadata": {},
   "source": [
    "### 학습"
   ]
  },
  {
   "cell_type": "code",
   "execution_count": null,
   "id": "2f901bc5",
   "metadata": {},
   "outputs": [],
   "source": [
    "# gpu 사용\n",
    "device = torch.device('cuda')\n",
    "# gpu에서 모델 동작\n",
    "model.to(device)\n",
    "\n",
    "num_epochs = 100\n",
    "\n",
    "print(\"Start Training !\")\n",
    "print('-'*50)\n",
    "\n",
    "train_loss_total = []\n",
    "valid_loss_total = []\n",
    "best_loss = np.inf\n",
    "\n",
    "for epoch in range(num_epochs):\n",
    "    \n",
    "    train_loss = 0\n",
    "    valid_loss = 0\n",
    "    \n",
    "    ''' Training '''\n",
    "    # 모델을 학습모드로 전환\n",
    "    model.train()\n",
    "    # __getitem__에서 반환해주는 형태로 데이터 반환\n",
    "    for X_data, y_data in train_loader:\n",
    "\n",
    "        # 데이터를 gpu로\n",
    "        X_data = X_data.to(device)\n",
    "        y_data = y_data.to(device)\n",
    "        \n",
    "        # 모델의 모든 기울기 값을 0으로 설정\n",
    "        optim.'''Answer'''\n",
    "        \n",
    "        # 데이터를 모델에 입력하여 출력값 계산\n",
    "        y_pred = '''Answer'''\n",
    "        \n",
    "        # 비용함수를 활용하여 오차 계산\n",
    "        loss = criterion(y_pred, y_data)\n",
    "        \n",
    "        # 계산된 오차를 기반으로 기울기 계산\n",
    "        loss.'''Answer'''\n",
    "        \n",
    "        # 계산된 기울기를 바탕으로 모델의 파라미터 업데이트\n",
    "        optim.'''Answer'''\n",
    "\n",
    "        train_loss += loss.item()\n",
    "    \n",
    "    ''' Validation '''\n",
    "    # 모델을 평가모드로 전환\n",
    "    model.eval()\n",
    "    # 모델을 평가할때는 기울기 계산 불필요\n",
    "    with torch.no_grad():\n",
    "        for X_data, y_data in valid_loader:\n",
    "            X_data = X_data.to(device)\n",
    "            y_data = y_data.to(device)\n",
    "            y_pred = '''Answer'''\n",
    "            loss = criterion(y_pred, y_data)\n",
    "            valid_loss += loss.item()\n",
    "    \n",
    "    # epoch의 loss 계산\n",
    "    train_loss_epoch = train_loss/len(train_loader)\n",
    "    valid_loss_epoch = valid_loss/len(valid_loader)\n",
    "\n",
    "    print(f'{epoch+1} epoch | Train loss: {train_loss_epoch:.3f}, Valid loss: {valid_loss_epoch:.3f}')\n",
    "    \n",
    "    # validation loss 기준으로 best epoch 계산 (Early stopping)\n",
    "    if valid_loss_epoch < best_loss:\n",
    "        # best loss 업데이트\n",
    "        best_loss = valid_loss_epoch\n",
    "        # 최적의 epoch 수와 모델 저장하기\n",
    "        best_epoch = epoch\n",
    "        torch.save(model.state_dict(), './best_model_dnn_fashion_MNIST.pt')\n",
    "    \n",
    "    train_loss_total.append(train_loss_epoch)\n",
    "    valid_loss_total.append(valid_loss_epoch)\n",
    "    \n",
    "print('-'*50)\n",
    "print(f'Finished Training ! Best Epoch is epoch {best_epoch+1}')"
   ]
  },
  {
   "cell_type": "markdown",
   "id": "2cd6d0f1-8709-4d74-88b6-53160e4a9ce2",
   "metadata": {},
   "source": [
    "### 학습 상태 확인 (learning curve)"
   ]
  },
  {
   "cell_type": "code",
   "execution_count": null,
   "id": "d02a430a",
   "metadata": {},
   "outputs": [],
   "source": [
    "plt.figure(figsize=(20,10))\n",
    "\n",
    "# 학습 및 검증 로스 변동 관찰하기\n",
    "plt.plot(train_loss_total,label='Train Loss')\n",
    "plt.plot(valid_loss_total, label='Validation Loss')\n",
    "# 최적의 모델이 저장된 곳 표시\n",
    "plt.axvline(x = best_epoch, color='red', label='Best Epoch')\n",
    "plt.legend(fontsize=20)\n",
    "plt.title(\"Learning Curve of trained model\", fontsize=18)\n",
    "plt.show()"
   ]
  },
  {
   "cell_type": "markdown",
   "id": "34b05ce5-bd20-4196-bb52-d1032c566799",
   "metadata": {},
   "source": [
    "## 1-3. Deep Neural Networks 모델 성능 평가"
   ]
  },
  {
   "cell_type": "code",
   "execution_count": null,
   "id": "91ef7794",
   "metadata": {},
   "outputs": [],
   "source": [
    "# 모델 선언\n",
    "model = DNN(input_dim, [500, 300, 100], 10)\n",
    "\n",
    "# 최적의 모델 불러오기\n",
    "ckpt = torch.'''Answer'''\n",
    "\n",
    "# 모델 파라미터 불러오기\n",
    "model.load_state_dict(ckpt)"
   ]
  },
  {
   "cell_type": "markdown",
   "id": "db8aecc2-5953-45bb-a65c-88b0b9010dad",
   "metadata": {},
   "source": [
    "### 학습된 DNN 결과 확인 및 성능 평가: Training Data"
   ]
  },
  {
   "cell_type": "code",
   "execution_count": null,
   "id": "e52ecc81",
   "metadata": {},
   "outputs": [],
   "source": [
    "# model을 evaluation 모드로 변경\n",
    "pred_list = []\n",
    "true_list = []\n",
    "\n",
    "model.eval()\n",
    "with torch.no_grad():\n",
    "    for X_data, y_data in train_loader:\n",
    "        # 모델의 출력값 계산\n",
    "        y_logit = model(X_data)\n",
    "        # 출력값을 최대로하는 인덱스(class) 저장\n",
    "        y_pred = torch.argmax(y_logit, dim=1)\n",
    "        # 예측값과 실제값 저장\n",
    "        pred_list.extend(y_pred.detach().numpy())\n",
    "        true_list.extend(y_data.detach().numpy())"
   ]
  },
  {
   "cell_type": "code",
   "execution_count": null,
   "id": "c22519c1",
   "metadata": {},
   "outputs": [],
   "source": [
    "# confusion matrix 계산\n",
    "cm_train = confusion_matrix(y_true=true_list, y_pred=pred_list)\n",
    "\n",
    "# confusion matrix 시각화\n",
    "plt.figure(figsize=(10, 8))\n",
    "sns.heatmap(data=cm_train, annot=True, fmt='d', annot_kws={'size': 15}, cmap='Blues')\n",
    "plt.xlabel('Predicted', size=20)\n",
    "plt.ylabel('True', size=20)\n",
    "plt.show()\n",
    "\n",
    "# 평가지표 계산\n",
    "train_acc = accuracy_score(true_list, pred_list)\n",
    "train_rec = recall_score(true_list, pred_list, average='macro')\n",
    "train_prec = precision_score(true_list, pred_list, average='macro')\n",
    "train_f1 = f1_score(true_list, pred_list, average='macro')\n",
    "\n",
    "print('Train Accuracy   : {:.3f}'.format(train_acc))\n",
    "print('Train Sensitivity: {:.3f}'.format(train_rec))\n",
    "print('Train Precision  : {:.3f}'.format(train_prec))\n",
    "print('Train F1 Score   : {:.3f}'.format(train_f1))"
   ]
  },
  {
   "cell_type": "markdown",
   "id": "358b166c",
   "metadata": {},
   "source": [
    "### 학습된 DNN 결과 확인 및 성능 평가: Testing Data"
   ]
  },
  {
   "cell_type": "code",
   "execution_count": null,
   "id": "09a915cd",
   "metadata": {},
   "outputs": [],
   "source": [
    "# model을 evaluation 모드로 변경\n",
    "pred_list = []\n",
    "true_list = []\n",
    "\n",
    "model.eval()\n",
    "with torch.no_grad():\n",
    "    for X_data, y_data in test_loader:\n",
    "        # 모델의 출력값 계산\n",
    "        y_logit = model(X_data)\n",
    "        # 출력값을 최대로하는 인덱스(class) 저장\n",
    "        y_pred = torch.argmax(y_logit, dim=1)\n",
    "        # 예측값과 실제값 저장\n",
    "        pred_list.extend(y_pred.detach().numpy())\n",
    "        true_list.extend(y_data.detach().numpy())"
   ]
  },
  {
   "cell_type": "code",
   "execution_count": null,
   "id": "7b29069d",
   "metadata": {},
   "outputs": [],
   "source": [
    "# confusion matrix 계산\n",
    "cm_train = confusion_matrix(y_true=true_list, y_pred=pred_list)\n",
    "\n",
    "# confusion matrix 시각화\n",
    "plt.figure(figsize=(10, 8))\n",
    "sns.heatmap(data=cm_train, annot=True, fmt='d', annot_kws={'size': 15}, cmap='Blues')\n",
    "plt.xlabel('Predicted', size=20)\n",
    "plt.ylabel('True', size=20)\n",
    "plt.show()\n",
    "\n",
    "# 평가지표 계산\n",
    "test_acc = accuracy_score(true_list, pred_list)\n",
    "test_rec = recall_score(true_list, pred_list, average='macro')\n",
    "test_prec = precision_score(true_list, pred_list, average='macro')\n",
    "test_f1 = f1_score(true_list, pred_list, average='macro')\n",
    "\n",
    "print('Test Accuracy   : {:.3f}'.format(test_acc))\n",
    "print('Test Sensitivity: {:.3f}'.format(test_rec))\n",
    "print('Test Precision  : {:.3f}'.format(test_prec))\n",
    "print('Test F1 Score   : {:.3f}'.format(test_f1))"
   ]
  },
  {
   "cell_type": "markdown",
   "id": "0a8006b1",
   "metadata": {},
   "source": [
    "## 1-4. 실제 데이터 이미지로 확인"
   ]
  },
  {
   "cell_type": "markdown",
   "id": "f70ad3ac-df66-4ede-9409-5a4bb536858f",
   "metadata": {},
   "source": [
    "|레이블|클래스|\n",
    "|---|---|\n",
    "|0|T-shirt/top(티셔츠)|\n",
    "|1|Trouser(바지)|\n",
    "|2|Pullover(스웨터)|\n",
    "|3|Dress(드레스)|\n",
    "|4|Coat(코트)|\n",
    "|5|Sandal(샌들)|\n",
    "|6|Shirt(셔츠)|\n",
    "|7|Sneaker(운동화)|\n",
    "|8|Bag(가방)|\n",
    "|9|Ankel boot(발목부츠)|"
   ]
  },
  {
   "cell_type": "code",
   "execution_count": null,
   "id": "8414edaa",
   "metadata": {},
   "outputs": [],
   "source": [
    "# test data에서 일부 이미지 선택\n",
    "test_data = test_dataset.data_X[:9]\n",
    "y_true = test_dataset.data_y[:9]\n",
    "\n",
    "# 모델의 출력값 계산\n",
    "y_logit = model(test_data)\n",
    "\n",
    "# 출력값을 최대로하는 인덱스(class) 저장\n",
    "y_pred = '''Answer'''\n",
    "\n",
    "# scaler 불러오기\n",
    "scaler = test_dataset.scaler\n",
    "\n",
    "# 정규화 제거 (-1 ~ 1 -> 0 ~ 255)\n",
    "test_data = scaler.'''Answer'''"
   ]
  },
  {
   "cell_type": "code",
   "execution_count": null,
   "id": "e0df85c9",
   "metadata": {},
   "outputs": [],
   "source": [
    "# 예측값 출력\n",
    "print('예측값 출력')\n",
    "print(y_pred.reshape(3,3))\n",
    "\n",
    "print('실제값 출력')\n",
    "print(y_true.reshape(3,3))\n",
    "\n",
    "# test data 시각화\n",
    "fig ,axes = plt.subplots(3,3,figsize=(10,10))\n",
    "for i, ax in enumerate(axes.ravel()):\n",
    "    ax.imshow(test_data[i].reshape(28,28), cmap='gray')\n",
    "    ax.axis('off')\n",
    "plt.show()"
   ]
  }
 ],
 "metadata": {
  "interpreter": {
   "hash": "85ec6622dafc34eadb0f05a53d0cb068d6325fd32f4a679e43edca5e33b987ca"
  },
  "kernelspec": {
   "display_name": "PyCharm (개인연구)",
   "language": "python",
   "name": "python3"
  },
  "language_info": {
   "codemirror_mode": {
    "name": "ipython",
    "version": 3
   },
   "file_extension": ".py",
   "mimetype": "text/x-python",
   "name": "python",
   "nbconvert_exporter": "python",
   "pygments_lexer": "ipython3",
   "version": "3.9.7"
  }
 },
 "nbformat": 4,
 "nbformat_minor": 5
}
