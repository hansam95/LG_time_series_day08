{
 "cells": [
  {
   "cell_type": "markdown",
   "metadata": {},
   "source": [
    "# Multilayer Perceptron 회귀 문제 실습: 실전과제문항"
   ]
  },
  {
   "cell_type": "markdown",
   "metadata": {},
   "source": [
    "## 0. 모듈 불러오기"
   ]
  },
  {
   "cell_type": "code",
   "execution_count": null,
   "metadata": {},
   "outputs": [],
   "source": [
    "''' 기본 모듈 및 시각화 모듈 '''\n",
    "from IPython.display import display\n",
    "import numpy as np\n",
    "import pandas as pd\n",
    "import seaborn as sns\n",
    "import matplotlib.pyplot as plt\n",
    "\n",
    "''' 데이터 전처리 모듈 '''\n",
    "from sklearn.preprocessing import StandardScaler\n",
    "from sklearn.model_selection import train_test_split\n",
    "\n",
    "''' Multilayer Perceptron 모듈 '''\n",
    "from sklearn.neural_network import MLPClassifier\n",
    "from sklearn.neural_network import MLPRegressor\n",
    "\n",
    "''' 결과 평가용 모듈 '''\n",
    "from sklearn.metrics import confusion_matrix, accuracy_score, f1_score, precision_score, recall_score\n",
    "from sklearn.metrics import mean_squared_error, mean_absolute_error, r2_score, mean_absolute_percentage_error\n",
    "\n",
    "''' 기타 optional'''\n",
    "pd.options.display.float_format = '{:.4f}'.format\n",
    "\n",
    "! git colne https://github.com/hansam95/test.git"
   ]
  },
  {
   "cell_type": "markdown",
   "metadata": {},
   "source": [
    "## 1. 데이터 불러오기\n",
    "### Toyota Corolla Data (Toyota 중고차 가격 예측 회귀 문제)"
   ]
  },
  {
   "cell_type": "markdown",
   "metadata": {},
   "source": [
    "### 설명변수 (X)\n",
    "- Mfg_Month\n",
    "- Mfg_Year\n",
    "- KM\n",
    "- Fuel_Type\n",
    "...\n",
    "- Radio_cassette\n",
    "- Tow_Bar\n",
    "\n",
    "### 반응변수 (Y)\n",
    "- Price"
   ]
  },
  {
   "cell_type": "code",
   "execution_count": null,
   "metadata": {
    "scrolled": true
   },
   "outputs": [],
   "source": [
    "data = pd.read_csv('''Answer''')"
   ]
  },
  {
   "cell_type": "markdown",
   "metadata": {},
   "source": [
    "## 2. 데이터 전처리하기"
   ]
  },
  {
   "cell_type": "markdown",
   "metadata": {},
   "source": [
    "### 데이터 확인"
   ]
  },
  {
   "cell_type": "code",
   "execution_count": null,
   "metadata": {},
   "outputs": [],
   "source": [
    "print('Data shape: {}'.format(data.'''Answer'''))\n",
    "data.head(2)"
   ]
  },
  {
   "cell_type": "markdown",
   "metadata": {},
   "source": [
    "### Column별 기초 통계량 확인"
   ]
  },
  {
   "cell_type": "code",
   "execution_count": null,
   "metadata": {},
   "outputs": [],
   "source": [
    "data.'''Answer'''"
   ]
  },
  {
   "cell_type": "markdown",
   "metadata": {},
   "source": [
    "### 불필요한 변수 제거"
   ]
  },
  {
   "cell_type": "code",
   "execution_count": null,
   "metadata": {},
   "outputs": [],
   "source": [
    "# Id, Model column 고유 개수\n",
    "num_id = len(data['''Answer'''].unique())\n",
    "num_model = len(data['''Answer'''].unique())\n",
    "\n",
    "print(f'ID: {num_id}')\n",
    "print(f'Model: {num_model}')"
   ]
  },
  {
   "cell_type": "code",
   "execution_count": null,
   "metadata": {},
   "outputs": [],
   "source": [
    "# 변수 제거\n",
    "data.drop(columns=['''Answer''', '''Answer'''], axis=1, inplace=True)"
   ]
  },
  {
   "cell_type": "markdown",
   "metadata": {},
   "source": [
    "### 범주형 설명변수에 대한 Dummy 변수 생성"
   ]
  },
  {
   "cell_type": "code",
   "execution_count": null,
   "metadata": {},
   "outputs": [],
   "source": [
    "display(data['Fuel_Type'])\n",
    "display(data.groupby('Fuel_Type')['Fuel_Type'].count())"
   ]
  },
  {
   "cell_type": "markdown",
   "metadata": {},
   "source": [
    "### 원핫인코딩"
   ]
  },
  {
   "cell_type": "markdown",
   "metadata": {},
   "source": [
    "<img src=\"https://z-images.s3.amazonaws.com/d/d5/MtimFxh.png\" width=\"600\"></img><br>\n",
    "<a href='https://z-images.s3.amazonaws.com/d/d5/MtimFxh.png'> https://z-images.s3.amazonaws.com/d/d5/MtimFxh.png </a>"
   ]
  },
  {
   "cell_type": "code",
   "execution_count": null,
   "metadata": {},
   "outputs": [],
   "source": [
    "# 원핫인코딩\n",
    "data_new = pd.get_dummies(data)"
   ]
  },
  {
   "cell_type": "code",
   "execution_count": null,
   "metadata": {},
   "outputs": [],
   "source": [
    "data.head(2)"
   ]
  },
  {
   "cell_type": "code",
   "execution_count": null,
   "metadata": {},
   "outputs": [],
   "source": [
    "data_new.head(2)"
   ]
  },
  {
   "cell_type": "markdown",
   "metadata": {},
   "source": [
    "### 설명변수(X)와 반응변수(Y) 정의"
   ]
  },
  {
   "cell_type": "code",
   "execution_count": null,
   "metadata": {},
   "outputs": [],
   "source": [
    "X = '''Answer'''\n",
    "y = '''Answer'''"
   ]
  },
  {
   "cell_type": "markdown",
   "metadata": {},
   "source": [
    "### 학습데이터(Training Dataset)와 테스트 데이터(Testing Dataset) 분리"
   ]
  },
  {
   "cell_type": "code",
   "execution_count": null,
   "metadata": {},
   "outputs": [],
   "source": [
    "train_X, test_X, train_y, test_y = train_test_split(X, y, test_size=0.3)"
   ]
  },
  {
   "cell_type": "markdown",
   "metadata": {},
   "source": [
    "### 정규화 : Standardization(표준정규화) with Standard Scaler"
   ]
  },
  {
   "cell_type": "code",
   "execution_count": null,
   "metadata": {},
   "outputs": [],
   "source": [
    "train_X.'''Answer'''"
   ]
  },
  {
   "cell_type": "code",
   "execution_count": null,
   "metadata": {},
   "outputs": [],
   "source": [
    "# 정규화\n",
    "scaler = StandardScaler()\n",
    "scaler.fit(train_X)\n",
    "\n",
    "train_X = scaler.transform(train_X)\n",
    "test_X = scaler.transform(test_X)"
   ]
  },
  {
   "cell_type": "code",
   "execution_count": null,
   "metadata": {},
   "outputs": [],
   "source": [
    "pd.DataFrame(train_X, columns = X.columns).'''Answer'''"
   ]
  },
  {
   "cell_type": "markdown",
   "metadata": {},
   "source": [
    "## 3. 모델링: Multilayer Perceptron (MLP) Regressor"
   ]
  },
  {
   "cell_type": "markdown",
   "metadata": {},
   "source": [
    "### MLP Regressor 정의\n",
    "<a href='http://scikit-learn.org/stable/modules/generated/sklearn.neural_network.MLPRegressor.html'> Scikit-Learn MLP Regressor Manual </a>\n",
    "\n",
    "- <b>hiddent_layer_sizes</b> - hidden layer 개수 \n",
    "- <b>activation</b> - activation function 타입 (identity, logistic, tanh, <font color='red'>relu</font>)\n",
    "- <b>solver    </b> - 경사하강법의 종류 (<font color='red'>adam</font>, sgd, lbfgs) <br>\n",
    "- <b>batch_size</b> - 모델에 한번에 입력되는 데이터의 수 \n",
    "- <b>learning_rate_init</b> - 한번 업데이트 하는 step size\n",
    "- <b>max_iter </b> - 최대 학습 횟수 ( = Epochs )\n",
    "- <b>verbose </b> - 학습 진행과정 출력 여부\n",
    "- <b>random_state </b> - 랜덤시드"
   ]
  },
  {
   "cell_type": "code",
   "execution_count": null,
   "metadata": {},
   "outputs": [],
   "source": [
    "reg_mlp = MLPRegressor(hidden_layer_sizes=10,\n",
    "                        activation='''Answer''',\n",
    "                        solver='''Answer''',\n",
    "                        batch_size=32,\n",
    "                        learning_rate_init=0.01,\n",
    "                        max_iter=200,\n",
    "                        verbose=True,\n",
    "                        random_state=0)"
   ]
  },
  {
   "cell_type": "markdown",
   "metadata": {},
   "source": [
    "### MLP Regressor 학습"
   ]
  },
  {
   "cell_type": "code",
   "execution_count": null,
   "metadata": {},
   "outputs": [],
   "source": [
    "reg_mlp.fit(train_X, train_y)"
   ]
  },
  {
   "cell_type": "markdown",
   "metadata": {},
   "source": [
    "### 학습 상태 확인 (learning curve)"
   ]
  },
  {
   "cell_type": "code",
   "execution_count": null,
   "metadata": {},
   "outputs": [],
   "source": [
    "plt.figure(figsize=(18,8))\n",
    "\n",
    "train_loss_values = reg_mlp.loss_curve_\n",
    "plt.plot(train_loss_values,label='Train Loss')\n",
    "\n",
    "plt.legend(fontsize=20)\n",
    "plt.title(\"Learning Curve of trained MLP Regressor\", fontsize=20)\n",
    "plt.show()"
   ]
  },
  {
   "cell_type": "markdown",
   "metadata": {},
   "source": [
    "## 4. Multilayer Perceptron 모델 성능 평가"
   ]
  },
  {
   "cell_type": "markdown",
   "metadata": {},
   "source": [
    "### 학습된 MLP Regressor 결과 확인 및 성능 평가 : Training Data"
   ]
  },
  {
   "cell_type": "code",
   "execution_count": null,
   "metadata": {},
   "outputs": [],
   "source": [
    "# 학습한 데이터에 대한 예측값\n",
    "train_y_pred = reg_mlp.'''Answer'''\n",
    "\n",
    "train_mae = mean_absolute_error(train_y, train_y_pred)\n",
    "train_mse = mean_squared_error(train_y, train_y_pred)\n",
    "train_mape = mean_absolute_percentage_error(train_y, train_y_pred)\n",
    "train_r2 = r2_score(train_y, train_y_pred)\n",
    "\n",
    "print('Train MAE  : {:.3f}'.format(train_mae))\n",
    "print('Train MSE  : {:.3f}'.format(train_mse))\n",
    "print('Train MAPE : {:.3f}'.format(train_mape))\n",
    "print('Train R2   : {:.3f}'.format(train_r2))"
   ]
  },
  {
   "cell_type": "markdown",
   "metadata": {},
   "source": [
    "### 학습된 MLP Regressor 결과 확인 및 성능 평가 : Testing Data"
   ]
  },
  {
   "cell_type": "code",
   "execution_count": null,
   "metadata": {},
   "outputs": [],
   "source": [
    "# 학습한 데이터에 대한 예측값\n",
    "test_y_pred = reg_mlp.'''Answer'''\n",
    "\n",
    "test_mae = mean_absolute_error(test_y, test_y_pred)\n",
    "test_mse = mean_squared_error(test_y, test_y_pred)\n",
    "test_mape = mean_absolute_percentage_error(test_y, test_y_pred)\n",
    "test_r2 = r2_score(test_y, test_y_pred)\n",
    "\n",
    "print('Test MAE  : {:.3f}'.format(test_mae))\n",
    "print('Test MSE  : {:.3f}'.format(test_mse))\n",
    "print('Test MAPE : {:.3f}'.format(test_mape))\n",
    "print('Test R2   : {:.3f}'.format(test_r2))"
   ]
  },
  {
   "cell_type": "markdown",
   "metadata": {},
   "source": [
    "### MLP Regressor 예측 결과 결과 확인 : Testing Data"
   ]
  },
  {
   "cell_type": "code",
   "execution_count": null,
   "metadata": {},
   "outputs": [],
   "source": [
    "# 산점도 그래프\n",
    "fig_values = np.concatenate([test_y.squeeze(), test_y_pred.squeeze()])\n",
    "vmin = np.min(fig_values) * 0.95\n",
    "vmax = np.max(fig_values) * 1.05\n",
    "\n",
    "plt.figure(figsize=(8, 8))\n",
    "plt.title('Actual values vs. Predicted values (Testing Data)', size=18)\n",
    "plt.scatter(test_y, test_y_pred)\n",
    "plt.plot([vmin, vmax], [vmin, vmax], color='grey', linestyle='dashed')\n",
    "plt.xlabel('Actual', size=16)\n",
    "plt.ylabel('Predicted', size=16)\n",
    "plt.show()"
   ]
  },
  {
   "cell_type": "code",
   "execution_count": null,
   "metadata": {},
   "outputs": [],
   "source": []
  }
 ],
 "metadata": {
  "kernelspec": {
   "display_name": "Python 3 (ipykernel)",
   "language": "python",
   "name": "python3"
  },
  "language_info": {
   "codemirror_mode": {
    "name": "ipython",
    "version": 3
   },
   "file_extension": ".py",
   "mimetype": "text/x-python",
   "name": "python",
   "nbconvert_exporter": "python",
   "pygments_lexer": "ipython3",
   "version": "3.7.11"
  }
 },
 "nbformat": 4,
 "nbformat_minor": 4
}
