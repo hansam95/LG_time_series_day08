{
 "cells": [
  {
   "cell_type": "markdown",
   "id": "ad82173c-8d04-45e7-8a70-302b6be930c3",
   "metadata": {},
   "source": [
    "# [Deep-Neural-Networks 실습 : 실전과제문항]"
   ]
  },
  {
   "cell_type": "markdown",
   "id": "dc17b57e-9671-404a-8cd9-f944d2f5f94d",
   "metadata": {},
   "source": [
    "## 0.모듈 불러오기"
   ]
  },
  {
   "cell_type": "code",
   "execution_count": 2,
   "id": "69da2c5a-25e5-4e7b-bbd9-aafb2659da0b",
   "metadata": {},
   "outputs": [],
   "source": [
    "''' 기본 모듈 및 시각화 모듈 '''\n",
    "import numpy as np\n",
    "import pandas as pd\n",
    "import seaborn as sns\n",
    "import matplotlib.pyplot as plt\n",
    "\n",
    "''' 데이터 전처리 모듈 '''\n",
    "from sklearn.preprocessing import StandardScaler\n",
    "from sklearn.model_selection import train_test_split\n",
    "\n",
    "'''Neural Network을 위한 딥러닝 모듈'''\n",
    "import torch\n",
    "from torch.utils.data import Dataset\n",
    "from torch.utils.data import DataLoader\n",
    "\n",
    "''' 결과 평가용 모듈 '''\n",
    "from sklearn.metrics import confusion_matrix, accuracy_score, f1_score, precision_score, recall_score\n",
    "\n",
    "! git clone https://github.com/hansam95/LG_time_series_day08.git"
   ]
  },
  {
   "cell_type": "markdown",
   "id": "19245a87-abd5-4569-b537-2e9452a9f216",
   "metadata": {},
   "source": [
    "## 1. 분석데이터 : Fashion-MNIST 의류 이미지"
   ]
  },
  {
   "cell_type": "markdown",
   "id": "ecdc0453-aec0-4e9e-97d1-940141a85136",
   "metadata": {},
   "source": [
    "- 이미지 데이터는 픽셀로 이루어져 있으며, 각 픽셀의 밝기(intensity, 0~255)를 통해 이미지를 나타낼 수 있다.\n",
    "- Fashion-MNIST 데이터는 이런 픽셀 값들을 설명변수(X)로 하여 어떤 의류(Y)에 해당하는 이미지인지 분류하는 문제\n",
    "- Fashion-MNIST 데이터의 이미지는 가로 28 픽셀, 세로 28 픽셀로 이루어져 있으므로 28 x 28 = 784개의 설명변수로 10개의 클래스를 예측하는 다범주 분류문제\n",
    "- 해당 데이터에서의 레이블과 클래스는 아래의 표와 같다.\n",
    "|레이블|클래스|\n",
    "|---|---|\n",
    "|0|T-shirt/top(티셔츠)|\n",
    "|1|Trouser(바지)|\n",
    "|2|Pullover(스웨터)|\n",
    "|3|Dress(드레스)|\n",
    "|4|Coat(코트)|\n",
    "|5|Sandal(샌들)|\n",
    "|6|Shirt(셔츠)|\n",
    "|7|Sneaker(운동화)|\n",
    "|8|Bag(가방)|\n",
    "|9|Ankel boot(발목부츠)|"
   ]
  },
  {
   "cell_type": "markdown",
   "id": "645c61aa-87a8-4f10-87ed-543653d14d49",
   "metadata": {},
   "source": [
    "### 데이터 불러오기"
   ]
  },
  {
   "cell_type": "code",
   "execution_count": 3,
   "id": "ba2f6954-2ded-447f-ab76-8597f0ab82ec",
   "metadata": {},
   "outputs": [],
   "source": [
    "data = pd.read_csv(\"./LG_time_series_day08/data/Fashion_MNIST_Example.csv\")"
   ]
  },
  {
   "cell_type": "markdown",
   "id": "da74147b-16a2-4a1f-ae07-2c1a31e39624",
   "metadata": {},
   "source": [
    "## 1.1 탐색적 데이터 분석"
   ]
  },
  {
   "cell_type": "markdown",
   "id": "315d767f-a3a5-4f12-8b92-a997ec90fec9",
   "metadata": {},
   "source": [
    "### 데이터 확인"
   ]
  },
  {
   "cell_type": "code",
   "execution_count": 4,
   "id": "70efb591-dd21-4ff4-a9da-8c067f14fcc5",
   "metadata": {},
   "outputs": [
    {
     "name": "stdout",
     "output_type": "stream",
     "text": [
      "Data shape: (1000, 785)\n"
     ]
    },
    {
     "data": {
      "text/html": [
       "<div>\n",
       "<style scoped>\n",
       "    .dataframe tbody tr th:only-of-type {\n",
       "        vertical-align: middle;\n",
       "    }\n",
       "\n",
       "    .dataframe tbody tr th {\n",
       "        vertical-align: top;\n",
       "    }\n",
       "\n",
       "    .dataframe thead th {\n",
       "        text-align: right;\n",
       "    }\n",
       "</style>\n",
       "<table border=\"1\" class=\"dataframe\">\n",
       "  <thead>\n",
       "    <tr style=\"text-align: right;\">\n",
       "      <th></th>\n",
       "      <th>1</th>\n",
       "      <th>2</th>\n",
       "      <th>3</th>\n",
       "      <th>4</th>\n",
       "      <th>5</th>\n",
       "      <th>6</th>\n",
       "      <th>7</th>\n",
       "      <th>8</th>\n",
       "      <th>9</th>\n",
       "      <th>10</th>\n",
       "      <th>...</th>\n",
       "      <th>776</th>\n",
       "      <th>777</th>\n",
       "      <th>778</th>\n",
       "      <th>779</th>\n",
       "      <th>780</th>\n",
       "      <th>781</th>\n",
       "      <th>782</th>\n",
       "      <th>783</th>\n",
       "      <th>784</th>\n",
       "      <th>Y</th>\n",
       "    </tr>\n",
       "  </thead>\n",
       "  <tbody>\n",
       "    <tr>\n",
       "      <th>0</th>\n",
       "      <td>0</td>\n",
       "      <td>0</td>\n",
       "      <td>0</td>\n",
       "      <td>1</td>\n",
       "      <td>2</td>\n",
       "      <td>0</td>\n",
       "      <td>0</td>\n",
       "      <td>0</td>\n",
       "      <td>0</td>\n",
       "      <td>0</td>\n",
       "      <td>...</td>\n",
       "      <td>0</td>\n",
       "      <td>0</td>\n",
       "      <td>0</td>\n",
       "      <td>0</td>\n",
       "      <td>1</td>\n",
       "      <td>0</td>\n",
       "      <td>0</td>\n",
       "      <td>0</td>\n",
       "      <td>0</td>\n",
       "      <td>0</td>\n",
       "    </tr>\n",
       "    <tr>\n",
       "      <th>1</th>\n",
       "      <td>0</td>\n",
       "      <td>0</td>\n",
       "      <td>0</td>\n",
       "      <td>0</td>\n",
       "      <td>1</td>\n",
       "      <td>0</td>\n",
       "      <td>0</td>\n",
       "      <td>0</td>\n",
       "      <td>0</td>\n",
       "      <td>41</td>\n",
       "      <td>...</td>\n",
       "      <td>177</td>\n",
       "      <td>163</td>\n",
       "      <td>0</td>\n",
       "      <td>0</td>\n",
       "      <td>1</td>\n",
       "      <td>0</td>\n",
       "      <td>0</td>\n",
       "      <td>0</td>\n",
       "      <td>0</td>\n",
       "      <td>0</td>\n",
       "    </tr>\n",
       "    <tr>\n",
       "      <th>2</th>\n",
       "      <td>0</td>\n",
       "      <td>0</td>\n",
       "      <td>0</td>\n",
       "      <td>0</td>\n",
       "      <td>0</td>\n",
       "      <td>0</td>\n",
       "      <td>0</td>\n",
       "      <td>0</td>\n",
       "      <td>0</td>\n",
       "      <td>0</td>\n",
       "      <td>...</td>\n",
       "      <td>0</td>\n",
       "      <td>0</td>\n",
       "      <td>0</td>\n",
       "      <td>0</td>\n",
       "      <td>0</td>\n",
       "      <td>1</td>\n",
       "      <td>0</td>\n",
       "      <td>0</td>\n",
       "      <td>0</td>\n",
       "      <td>0</td>\n",
       "    </tr>\n",
       "    <tr>\n",
       "      <th>3</th>\n",
       "      <td>0</td>\n",
       "      <td>0</td>\n",
       "      <td>0</td>\n",
       "      <td>0</td>\n",
       "      <td>0</td>\n",
       "      <td>0</td>\n",
       "      <td>0</td>\n",
       "      <td>0</td>\n",
       "      <td>40</td>\n",
       "      <td>122</td>\n",
       "      <td>...</td>\n",
       "      <td>93</td>\n",
       "      <td>87</td>\n",
       "      <td>49</td>\n",
       "      <td>0</td>\n",
       "      <td>0</td>\n",
       "      <td>0</td>\n",
       "      <td>0</td>\n",
       "      <td>0</td>\n",
       "      <td>0</td>\n",
       "      <td>0</td>\n",
       "    </tr>\n",
       "    <tr>\n",
       "      <th>4</th>\n",
       "      <td>0</td>\n",
       "      <td>0</td>\n",
       "      <td>0</td>\n",
       "      <td>0</td>\n",
       "      <td>0</td>\n",
       "      <td>0</td>\n",
       "      <td>0</td>\n",
       "      <td>0</td>\n",
       "      <td>0</td>\n",
       "      <td>2</td>\n",
       "      <td>...</td>\n",
       "      <td>118</td>\n",
       "      <td>66</td>\n",
       "      <td>0</td>\n",
       "      <td>0</td>\n",
       "      <td>0</td>\n",
       "      <td>0</td>\n",
       "      <td>0</td>\n",
       "      <td>0</td>\n",
       "      <td>0</td>\n",
       "      <td>0</td>\n",
       "    </tr>\n",
       "  </tbody>\n",
       "</table>\n",
       "<p>5 rows × 785 columns</p>\n",
       "</div>"
      ],
      "text/plain": [
       "   1  2  3  4  5  6  7  8   9   10  ...  776  777  778  779  780  781  782  \\\n",
       "0  0  0  0  1  2  0  0  0   0    0  ...    0    0    0    0    1    0    0   \n",
       "1  0  0  0  0  1  0  0  0   0   41  ...  177  163    0    0    1    0    0   \n",
       "2  0  0  0  0  0  0  0  0   0    0  ...    0    0    0    0    0    1    0   \n",
       "3  0  0  0  0  0  0  0  0  40  122  ...   93   87   49    0    0    0    0   \n",
       "4  0  0  0  0  0  0  0  0   0    2  ...  118   66    0    0    0    0    0   \n",
       "\n",
       "   783  784  Y  \n",
       "0    0    0  0  \n",
       "1    0    0  0  \n",
       "2    0    0  0  \n",
       "3    0    0  0  \n",
       "4    0    0  0  \n",
       "\n",
       "[5 rows x 785 columns]"
      ]
     },
     "execution_count": 4,
     "metadata": {},
     "output_type": "execute_result"
    }
   ],
   "source": [
    "## 불러온 데이터의 shape 확인\n",
    "print('Data shape: {}'.format(data.shape))\n",
    "data.head()"
   ]
  },
  {
   "cell_type": "markdown",
   "id": "73966767-c860-46ef-a5e6-a01d9ba36562",
   "metadata": {},
   "source": [
    "### 클래스 비율 확인"
   ]
  },
  {
   "cell_type": "code",
   "execution_count": 5,
   "id": "9d0780c5-9ba3-4a10-a6ee-60cdf53d53b1",
   "metadata": {},
   "outputs": [
    {
     "data": {
      "text/plain": [
       "0    100\n",
       "1    100\n",
       "2    100\n",
       "3    100\n",
       "4    100\n",
       "5    100\n",
       "6    100\n",
       "7    100\n",
       "8    100\n",
       "9    100\n",
       "Name: Y, dtype: int64"
      ]
     },
     "execution_count": 5,
     "metadata": {},
     "output_type": "execute_result"
    }
   ],
   "source": [
    "data['Y'].value_counts()"
   ]
  },
  {
   "cell_type": "markdown",
   "id": "f479979b-8ad2-485e-a2d6-2d443b8b33fe",
   "metadata": {},
   "source": [
    "### 예시 이미지 출력"
   ]
  },
  {
   "cell_type": "code",
   "execution_count": 6,
   "id": "5771ff4d-cc05-418b-a428-8f779f03bdbe",
   "metadata": {},
   "outputs": [
    {
     "data": {
      "image/png": "[encoded data removed]",
      "text/plain": [
       "<Figure size 432x288 with 1 Axes>"
      ]
     },
     "metadata": {
      "needs_background": "light"
     },
     "output_type": "display_data"
    }
   ],
   "source": [
    "## 1번째 데이터의 예시이미지 출력\n",
    "image = data.iloc[0,:-1].values\n",
    "plt.imshow(image.reshape(28,28), cmap='gray')\n",
    "plt.axis('off')\n",
    "plt.show()"
   ]
  },
  {
   "cell_type": "markdown",
   "id": "d38c5a1e-616e-4898-9ec8-38399f6919a9",
   "metadata": {},
   "source": [
    "## 1-2. 모델링: Deep Neural Networks (DNN)"
   ]
  },
  {
   "cell_type": "markdown",
   "id": "db0585fd-c350-4673-b0c4-e452d092de7b",
   "metadata": {},
   "source": [
    "### Dataset"
   ]
  },
  {
   "cell_type": "code",
   "execution_count": 7,
   "id": "e26df6a3-372b-4376-906b-bac1f1ce6003",
   "metadata": {},
   "outputs": [],
   "source": [
    "class Fashion_MNISTDataset(Dataset):\n",
    "    def __init__(self, data_path, split):\n",
    "        '''데이터 불러오기, 전처리'''\n",
    "\n",
    "        # 데이터 불러오기\n",
    "        data = pd.read_csv(data_path)\n",
    "        X = data.drop(labels='Y', axis=1).values\n",
    "        y = data['Y'].values\n",
    "\n",
    "        # 데이터 나누기 (학습, 검증, 테스트)\n",
    "        train_X, test_X, train_y, test_y = train_test_split(X, y, stratify=y, test_size=0.2, random_state=0)\n",
    "        train_X, valid_X, train_y, valid_y = train_test_split(train_X, train_y, stratify=train_y, test_size=0.2, random_state=0)\n",
    "\n",
    "        # 데이터 정규화\n",
    "        self.scaler = StandardScaler()\n",
    "        train_X = self.scaler.fit_transform(train_X)\n",
    "        valid_X = self.scaler.transform(valid_X)\n",
    "        test_X = self.scaler.transform(test_X)\n",
    "\n",
    "        # 데이터셋 지정\n",
    "        if split == 'train':\n",
    "            self.data_X = train_X\n",
    "            self.data_y = train_y\n",
    "        elif split == 'valid':\n",
    "            self.data_X = valid_X\n",
    "            self.data_y = valid_y\n",
    "        elif split == 'test':\n",
    "            self.data_X = test_X\n",
    "            self.data_y = test_y\n",
    "\n",
    "        # numpy array -> Tensor 변환\n",
    "        self.data_X = torch.FloatTensor(self.data_X)\n",
    "        self.data_y = torch.LongTensor(self.data_y)\n",
    "\n",
    "    def __len__(self):\n",
    "        '''데이터셋 개수 정의'''\n",
    "        return len(self.data_X)\n",
    "    \n",
    "    def __getitem__(self, idx):\n",
    "        '''인덱스를 입력받아 데이터를 출력'''\n",
    "        X = self.data_X[idx]\n",
    "        y = self.data_y[idx]\n",
    "        return X, y"
   ]
  },
  {
   "cell_type": "markdown",
   "id": "d4444c7b-3e75-4d46-9d5e-f2d944640333",
   "metadata": {},
   "source": [
    "#### DataLoader"
   ]
  },
  {
   "cell_type": "code",
   "execution_count": 8,
   "id": "9318eb40-dd89-45bb-9137-cf715e340166",
   "metadata": {},
   "outputs": [],
   "source": [
    "# 학습 데이터\n",
    "train_dataset = Fashion_MNISTDataset(data_path='./LG_time_series_day08/data/Fashion_MNIST_Example.csv', split='train')\n",
    "train_loader = DataLoader(dataset = train_dataset, batch_size = 64, shuffle = True)\n",
    "# 검증 데이터\n",
    "valid_dataset = Fashion_MNISTDataset(data_path='./LG_time_series_day08/data/Fashion_MNIST_Example.csv', split='valid')\n",
    "valid_loader = DataLoader(dataset = valid_dataset, batch_size = 64)\n",
    "# 테스트 데이터\n",
    "test_dataset = Fashion_MNISTDataset(data_path='./LG_time_series_day08/data/Fashion_MNIST_Example.csv', split='test')\n",
    "test_loader = DataLoader(dataset = test_dataset, batch_size = 64)"
   ]
  },
  {
   "cell_type": "markdown",
   "id": "4a2a2285-bcc4-42cc-80ce-5c3d7bc8a154",
   "metadata": {},
   "source": [
    "### Model"
   ]
  },
  {
   "cell_type": "code",
   "execution_count": 9,
   "id": "b1318e10-350f-4911-85a8-81e10faeb046",
   "metadata": {},
   "outputs": [],
   "source": [
    "class DNN(torch.nn.Module):\n",
    "    def __init__(self, input_dim, hidden_dim, output_dim): \n",
    "        super().__init__()\n",
    "        \n",
    "        ''' 모델에 필요한 layer 정의 ''' \n",
    "               \n",
    "        self.linear1 = torch.nn.Linear(input_dim, hidden_dim[0]) # input_dim(784) -> hidden_dim1(500)\n",
    "        self.linear2 = torch.nn.Linear(hidden_dim[0], hidden_dim[1]) # hidden_dim1(500) -> hidden_dim2(500)\n",
    "        self.linear3 = torch.nn.Linear(hidden_dim[1], hidden_dim[2]) # hidden_dim2(500) -> hidden_dim3(300)\n",
    "        self.linear4 = torch.nn.Linear(hidden_dim[2], output_dim) # hidden_dim3(300) -> output_dim(10)   \n",
    "        self.relu = torch.nn.ReLU() # Relu activation function\n",
    "        \n",
    "    def forward(self, x):\n",
    "        \n",
    "        ''' x를 입력받아 진행할 순서 설정 '''\n",
    "\n",
    "        x = self.relu(self.linear1(x))\n",
    "        x = self.relu(self.linear2(x))\n",
    "        x = self.relu(self.linear3(x))\n",
    "        x = self.linear4(x)\n",
    "\n",
    "        return x"
   ]
  },
  {
   "cell_type": "code",
   "execution_count": 10,
   "id": "d816a147-ad37-4922-b313-7d8b13113d55",
   "metadata": {},
   "outputs": [],
   "source": [
    "# 입력 차원수 \n",
    "input_dim = train_dataset.data_X[0].shape[0]\n",
    "# 모델 선언\n",
    "model = DNN(input_dim, [500, 300, 100], 10) # 10=class 개수"
   ]
  },
  {
   "cell_type": "markdown",
   "id": "d85df548-12a5-4444-8759-74225e67a0ee",
   "metadata": {},
   "source": [
    "### 비용함수"
   ]
  },
  {
   "cell_type": "code",
   "execution_count": 11,
   "id": "0318d870-9a71-4276-bd7d-a9e2db889704",
   "metadata": {},
   "outputs": [],
   "source": [
    "# 비용함수 정의 (분류문제 -> crossentropy 사용)\n",
    "criterion = torch.nn.CrossEntropyLoss()"
   ]
  },
  {
   "cell_type": "markdown",
   "id": "1bfa65f7-3c46-47e6-87b8-b695696b4dfc",
   "metadata": {},
   "source": [
    "### Optimizer"
   ]
  },
  {
   "cell_type": "code",
   "execution_count": 12,
   "id": "e571aebd-4d06-4709-b05e-9423c6bc60d9",
   "metadata": {},
   "outputs": [],
   "source": [
    "# 경사하강법의 종류 정의 (adam)\n",
    "optim = torch.optim.Adam(model.parameters(), lr = 0.0001)"
   ]
  },
  {
   "cell_type": "markdown",
   "id": "7e7702f6-db36-4d87-a6f4-a90435cb1431",
   "metadata": {},
   "source": [
    "### 학습"
   ]
  },
  {
   "cell_type": "code",
   "execution_count": 13,
   "id": "88d1788f-4b2b-44fb-afa5-37958888f2db",
   "metadata": {},
   "outputs": [
    {
     "name": "stdout",
     "output_type": "stream",
     "text": [
      "Start Training !\n",
      "--------------------------------------------------\n",
      "1 epoch | Train loss: 2.251, Valid loss: 2.184\n",
      "2 epoch | Train loss: 2.124, Valid loss: 2.043\n",
      "3 epoch | Train loss: 1.954, Valid loss: 1.841\n",
      "4 epoch | Train loss: 1.725, Valid loss: 1.599\n",
      "5 epoch | Train loss: 1.466, Valid loss: 1.356\n",
      "6 epoch | Train loss: 1.212, Valid loss: 1.147\n",
      "7 epoch | Train loss: 1.001, Valid loss: 1.001\n",
      "8 epoch | Train loss: 0.850, Valid loss: 0.888\n",
      "9 epoch | Train loss: 0.749, Valid loss: 0.811\n",
      "10 epoch | Train loss: 0.670, Valid loss: 0.771\n",
      "11 epoch | Train loss: 0.619, Valid loss: 0.726\n",
      "12 epoch | Train loss: 0.575, Valid loss: 0.693\n",
      "13 epoch | Train loss: 0.540, Valid loss: 0.681\n",
      "14 epoch | Train loss: 0.506, Valid loss: 0.665\n",
      "15 epoch | Train loss: 0.474, Valid loss: 0.646\n",
      "16 epoch | Train loss: 0.451, Valid loss: 0.643\n",
      "17 epoch | Train loss: 0.423, Valid loss: 0.628\n",
      "18 epoch | Train loss: 0.399, Valid loss: 0.621\n",
      "19 epoch | Train loss: 0.376, Valid loss: 0.615\n",
      "20 epoch | Train loss: 0.357, Valid loss: 0.606\n",
      "21 epoch | Train loss: 0.338, Valid loss: 0.589\n",
      "22 epoch | Train loss: 0.324, Valid loss: 0.595\n",
      "23 epoch | Train loss: 0.304, Valid loss: 0.596\n",
      "24 epoch | Train loss: 0.288, Valid loss: 0.581\n",
      "25 epoch | Train loss: 0.273, Valid loss: 0.589\n",
      "26 epoch | Train loss: 0.258, Valid loss: 0.588\n",
      "27 epoch | Train loss: 0.241, Valid loss: 0.584\n",
      "28 epoch | Train loss: 0.229, Valid loss: 0.581\n",
      "29 epoch | Train loss: 0.219, Valid loss: 0.596\n",
      "30 epoch | Train loss: 0.207, Valid loss: 0.582\n",
      "31 epoch | Train loss: 0.192, Valid loss: 0.596\n",
      "32 epoch | Train loss: 0.181, Valid loss: 0.591\n",
      "33 epoch | Train loss: 0.171, Valid loss: 0.585\n",
      "34 epoch | Train loss: 0.161, Valid loss: 0.600\n",
      "35 epoch | Train loss: 0.153, Valid loss: 0.603\n",
      "36 epoch | Train loss: 0.142, Valid loss: 0.597\n",
      "37 epoch | Train loss: 0.134, Valid loss: 0.603\n",
      "38 epoch | Train loss: 0.127, Valid loss: 0.605\n",
      "39 epoch | Train loss: 0.122, Valid loss: 0.617\n",
      "40 epoch | Train loss: 0.111, Valid loss: 0.609\n",
      "41 epoch | Train loss: 0.106, Valid loss: 0.632\n",
      "42 epoch | Train loss: 0.102, Valid loss: 0.621\n",
      "43 epoch | Train loss: 0.093, Valid loss: 0.627\n",
      "44 epoch | Train loss: 0.088, Valid loss: 0.647\n",
      "45 epoch | Train loss: 0.084, Valid loss: 0.629\n",
      "46 epoch | Train loss: 0.079, Valid loss: 0.648\n",
      "47 epoch | Train loss: 0.072, Valid loss: 0.647\n",
      "48 epoch | Train loss: 0.069, Valid loss: 0.661\n",
      "49 epoch | Train loss: 0.065, Valid loss: 0.655\n",
      "50 epoch | Train loss: 0.061, Valid loss: 0.668\n",
      "51 epoch | Train loss: 0.056, Valid loss: 0.666\n",
      "52 epoch | Train loss: 0.053, Valid loss: 0.675\n",
      "53 epoch | Train loss: 0.050, Valid loss: 0.680\n",
      "54 epoch | Train loss: 0.049, Valid loss: 0.677\n",
      "55 epoch | Train loss: 0.045, Valid loss: 0.693\n",
      "56 epoch | Train loss: 0.043, Valid loss: 0.695\n",
      "57 epoch | Train loss: 0.040, Valid loss: 0.698\n",
      "58 epoch | Train loss: 0.038, Valid loss: 0.708\n",
      "59 epoch | Train loss: 0.037, Valid loss: 0.714\n",
      "60 epoch | Train loss: 0.036, Valid loss: 0.726\n",
      "61 epoch | Train loss: 0.031, Valid loss: 0.711\n",
      "62 epoch | Train loss: 0.030, Valid loss: 0.727\n",
      "63 epoch | Train loss: 0.029, Valid loss: 0.741\n",
      "64 epoch | Train loss: 0.027, Valid loss: 0.732\n",
      "65 epoch | Train loss: 0.025, Valid loss: 0.750\n",
      "66 epoch | Train loss: 0.024, Valid loss: 0.745\n",
      "67 epoch | Train loss: 0.023, Valid loss: 0.753\n",
      "68 epoch | Train loss: 0.022, Valid loss: 0.760\n",
      "69 epoch | Train loss: 0.021, Valid loss: 0.772\n",
      "70 epoch | Train loss: 0.020, Valid loss: 0.769\n",
      "71 epoch | Train loss: 0.019, Valid loss: 0.772\n",
      "72 epoch | Train loss: 0.018, Valid loss: 0.786\n",
      "73 epoch | Train loss: 0.017, Valid loss: 0.781\n",
      "74 epoch | Train loss: 0.016, Valid loss: 0.787\n",
      "75 epoch | Train loss: 0.015, Valid loss: 0.792\n",
      "76 epoch | Train loss: 0.015, Valid loss: 0.798\n",
      "77 epoch | Train loss: 0.014, Valid loss: 0.806\n",
      "78 epoch | Train loss: 0.014, Valid loss: 0.808\n",
      "79 epoch | Train loss: 0.013, Valid loss: 0.813\n",
      "80 epoch | Train loss: 0.012, Valid loss: 0.816\n",
      "81 epoch | Train loss: 0.012, Valid loss: 0.819\n",
      "82 epoch | Train loss: 0.011, Valid loss: 0.829\n",
      "83 epoch | Train loss: 0.011, Valid loss: 0.829\n",
      "84 epoch | Train loss: 0.011, Valid loss: 0.834\n",
      "85 epoch | Train loss: 0.010, Valid loss: 0.834\n",
      "86 epoch | Train loss: 0.010, Valid loss: 0.842\n",
      "87 epoch | Train loss: 0.010, Valid loss: 0.843\n",
      "88 epoch | Train loss: 0.009, Valid loss: 0.849\n",
      "89 epoch | Train loss: 0.009, Valid loss: 0.852\n",
      "90 epoch | Train loss: 0.008, Valid loss: 0.855\n",
      "91 epoch | Train loss: 0.008, Valid loss: 0.861\n",
      "92 epoch | Train loss: 0.008, Valid loss: 0.860\n",
      "93 epoch | Train loss: 0.008, Valid loss: 0.866\n",
      "94 epoch | Train loss: 0.007, Valid loss: 0.868\n",
      "95 epoch | Train loss: 0.007, Valid loss: 0.876\n",
      "96 epoch | Train loss: 0.007, Valid loss: 0.878\n",
      "97 epoch | Train loss: 0.007, Valid loss: 0.879\n",
      "98 epoch | Train loss: 0.006, Valid loss: 0.883\n",
      "99 epoch | Train loss: 0.006, Valid loss: 0.889\n",
      "100 epoch | Train loss: 0.006, Valid loss: 0.890\n",
      "--------------------------------------------------\n",
      "Finished Training ! Best Epoch is epoch 28\n"
     ]
    }
   ],
   "source": [
    "# gpu 사용\n",
    "device = torch.device('cuda')\n",
    "# gpu에서 모델 동작\n",
    "model.to(device)\n",
    "\n",
    "num_epochs = 100\n",
    "\n",
    "print(\"Start Training !\")\n",
    "print('-'*50)\n",
    "\n",
    "train_loss_total = []\n",
    "valid_loss_total = []\n",
    "best_loss = np.inf\n",
    "\n",
    "for epoch in range(num_epochs):\n",
    "    \n",
    "    train_loss = 0\n",
    "    valid_loss = 0\n",
    "    \n",
    "    ''' Training '''\n",
    "    # 모델을 학습모드로 전환\n",
    "    model.train()\n",
    "    # __getitem__에서 반환해주는 형태로 데이터 반환\n",
    "    for X_data, y_data in train_loader:\n",
    "\n",
    "        # 데이터를 gpu로\n",
    "        X_data = X_data.to(device)\n",
    "        y_data = y_data.to(device)\n",
    "        \n",
    "        # 모델의 모든 기울기 값을 0으로 설정\n",
    "        optim.zero_grad()\n",
    "        \n",
    "        # 데이터를 모델에 입력하여 출력값 계산\n",
    "        y_pred = model(X_data)\n",
    "        \n",
    "        # 비용함수를 활용하여 오차 계산\n",
    "        loss = criterion(y_pred, y_data)\n",
    "        \n",
    "        # 계산된 오차를 기반으로 기울기 계산\n",
    "        loss.backward()\n",
    "        \n",
    "        # 계산된 기울기를 바탕으로 모델의 파라미터 업데이트\n",
    "        optim.step()\n",
    "\n",
    "        train_loss += loss.item()\n",
    "    \n",
    "    ''' Validation '''\n",
    "    # 모델을 평가모드로 전환\n",
    "    model.eval()\n",
    "    # 모델을 평가할때는 기울기 계산 불필요\n",
    "    with torch.no_grad():\n",
    "        for X_data, y_data in valid_loader:\n",
    "            # 데이터를 gpu로\n",
    "            X_data = X_data.to(device)\n",
    "            y_data = y_data.to(device)\n",
    "            y_pred = model(X_data)\n",
    "            loss = criterion(y_pred, y_data)\n",
    "            valid_loss += loss.item()\n",
    "    \n",
    "    # epoch의 loss 계산\n",
    "    train_loss_epoch = train_loss/len(train_loader)\n",
    "    valid_loss_epoch = valid_loss/len(valid_loader)\n",
    "\n",
    "    print(f'{epoch+1} epoch | Train loss: {train_loss_epoch:.3f}, Valid loss: {valid_loss_epoch:.3f}')\n",
    "    \n",
    "    # validation loss 기준으로 best epoch 계산 (Early stopping)\n",
    "    if valid_loss_epoch < best_loss:\n",
    "        # best loss 업데이트\n",
    "        best_loss = valid_loss_epoch\n",
    "        # 최적의 epoch 수와 모델 저장하기\n",
    "        best_epoch = epoch\n",
    "        torch.save(model.state_dict(), './best_model_dnn_fashion_MNIST.pt')\n",
    "    \n",
    "    train_loss_total.append(train_loss_epoch)\n",
    "    valid_loss_total.append(valid_loss_epoch)\n",
    "    \n",
    "print('-'*50)\n",
    "print(f'Finished Training ! Best Epoch is epoch {best_epoch+1}')"
   ]
  },
  {
   "cell_type": "markdown",
   "id": "3585d3f0-99fb-4b61-aa66-7164dd316e52",
   "metadata": {},
   "source": [
    "### 학습 상태 확인 (learning curve)"
   ]
  },
  {
   "cell_type": "code",
   "execution_count": 14,
   "id": "3eeaa7a2-ab42-4b8b-9894-6ec2bc1314e3",
   "metadata": {},
   "outputs": [
    {
     "data": {
      "image/png": "[encoded data removed]",
      "text/plain": [
       "<Figure size 1440x720 with 1 Axes>"
      ]
     },
     "metadata": {
      "needs_background": "light"
     },
     "output_type": "display_data"
    }
   ],
   "source": [
    "plt.figure(figsize=(20,10))\n",
    "\n",
    "# 학습 및 검증 로스 변동 관찰하기\n",
    "plt.plot(train_loss_total,label='Train Loss')\n",
    "plt.plot(valid_loss_total, label='Validation Loss')\n",
    "# 최적의 모델이 저장된 곳 표시\n",
    "plt.axvline(x = best_epoch, color='red', label='Best Epoch')\n",
    "plt.legend(fontsize=20)\n",
    "plt.title(\"Learning Curve of trained model\", fontsize=18)\n",
    "plt.show()"
   ]
  },
  {
   "cell_type": "markdown",
   "id": "6927a14b-e36e-4306-9ae2-e3dc02af05b5",
   "metadata": {},
   "source": [
    "## 1-3. Deep Neural Networks 모델 성능 평가"
   ]
  },
  {
   "cell_type": "code",
   "execution_count": 15,
   "id": "d7ab06ed-7336-4123-acf4-2ae64ee692d7",
   "metadata": {},
   "outputs": [
    {
     "data": {
      "text/plain": [
       "<All keys matched successfully>"
      ]
     },
     "execution_count": 15,
     "metadata": {},
     "output_type": "execute_result"
    }
   ],
   "source": [
    "# 모델 선언\n",
    "model = DNN(input_dim, [500, 300, 100], 10)\n",
    "\n",
    "# 최적의 모델 불러오기\n",
    "ckpt = torch.load('./best_model_dnn_fashion_mnist.pt')\n",
    "\n",
    "# 모델 파라미터 불러오기\n",
    "model.load_state_dict(ckpt)"
   ]
  },
  {
   "cell_type": "markdown",
   "id": "f2c2cf9e-67e2-46c3-ac6e-3b1a4dcf416c",
   "metadata": {},
   "source": [
    "### 학습된 DNN 결과 확인 및 성능 평가: Training Data"
   ]
  },
  {
   "cell_type": "code",
   "execution_count": 16,
   "id": "f8eaab75-c0ba-4f1d-8ae9-ae17df8dce30",
   "metadata": {},
   "outputs": [],
   "source": [
    "# model을 evaluation 모드로 변경\n",
    "pred_list = []\n",
    "true_list = []\n",
    "\n",
    "model.eval()\n",
    "with torch.no_grad():\n",
    "    for X_data, y_data in train_loader:\n",
    "        # 모델의 출력값 계산\n",
    "        y_logit = model(X_data)\n",
    "        # 출력값을 최대로하는 인덱스(class) 저장\n",
    "        y_pred = torch.argmax(y_logit, dim=1)\n",
    "        # 예측값과 실제값 저장\n",
    "        pred_list.extend(y_pred.detach().numpy())\n",
    "        true_list.extend(y_data.detach().numpy())"
   ]
  },
  {
   "cell_type": "code",
   "execution_count": 17,
   "id": "11cbab12-2d44-4534-ba67-8adeae7991f7",
   "metadata": {},
   "outputs": [
    {
     "data": {
      "image/png": "[encoded data removed]",
      "text/plain": [
       "<Figure size 720x576 with 2 Axes>"
      ]
     },
     "metadata": {
      "needs_background": "light"
     },
     "output_type": "display_data"
    },
    {
     "name": "stdout",
     "output_type": "stream",
     "text": [
      "Train Accuracy   : 0.947\n",
      "Train Sensitivity: 0.947\n",
      "Train Precision  : 0.947\n",
      "Train F1 Score   : 0.946\n"
     ]
    }
   ],
   "source": [
    "# confusion matrix 계산\n",
    "cm_train = confusion_matrix(y_true=true_list, y_pred=pred_list)\n",
    "\n",
    "# confusion matrix 시각화\n",
    "plt.figure(figsize=(10, 8))\n",
    "sns.heatmap(data=cm_train, annot=True, fmt='d', annot_kws={'size': 15}, cmap='Blues')\n",
    "plt.xlabel('Predicted', size=20)\n",
    "plt.ylabel('True', size=20)\n",
    "plt.show()\n",
    "\n",
    "# 평가지표 계산\n",
    "train_acc = accuracy_score(true_list, pred_list)\n",
    "train_rec = recall_score(true_list, pred_list, average='macro')\n",
    "train_prec = precision_score(true_list, pred_list, average='macro')\n",
    "train_f1 = f1_score(true_list, pred_list, average='macro')\n",
    "\n",
    "print('Train Accuracy   : {:.3f}'.format(train_acc))\n",
    "print('Train Sensitivity: {:.3f}'.format(train_rec))\n",
    "print('Train Precision  : {:.3f}'.format(train_prec))\n",
    "print('Train F1 Score   : {:.3f}'.format(train_f1))"
   ]
  },
  {
   "cell_type": "markdown",
   "id": "850a7173-173c-4a29-a19f-5bfd445d2ce1",
   "metadata": {},
   "source": [
    "### 학습된 DNN 결과 확인 및 성능 평가: Testing Data"
   ]
  },
  {
   "cell_type": "code",
   "execution_count": 18,
   "id": "3f04e91e-7b1d-449c-a334-55f0b817e1da",
   "metadata": {},
   "outputs": [],
   "source": [
    "# model을 evaluation 모드로 변경\n",
    "pred_list = []\n",
    "true_list = []\n",
    "\n",
    "model.eval()\n",
    "with torch.no_grad():\n",
    "    for X_data, y_data in test_loader:\n",
    "        # 모델의 출력값 계산\n",
    "        y_logit = model(X_data)\n",
    "        # 출력값을 최대로하는 인덱스(class) 저장\n",
    "        y_pred = torch.argmax(y_logit, dim=1)\n",
    "        # 예측값과 실제값 저장\n",
    "        pred_list.extend(y_pred.detach().numpy())\n",
    "        true_list.extend(y_data.detach().numpy())"
   ]
  },
  {
   "cell_type": "code",
   "execution_count": 19,
   "id": "8f4d01c4-630e-4cfc-8ff0-ad457b61d656",
   "metadata": {},
   "outputs": [
    {
     "data": {
      "image/png": "[encoded data removed]",
      "text/plain": [
       "<Figure size 720x576 with 2 Axes>"
      ]
     },
     "metadata": {
      "needs_background": "light"
     },
     "output_type": "display_data"
    },
    {
     "name": "stdout",
     "output_type": "stream",
     "text": [
      "Test Accuracy   : 0.770\n",
      "Test Sensitivity: 0.770\n",
      "Test Precision  : 0.787\n",
      "Test F1 Score   : 0.773\n"
     ]
    }
   ],
   "source": [
    "# confusion matrix 계산\n",
    "cm_train = confusion_matrix(y_true=true_list, y_pred=pred_list)\n",
    "\n",
    "# confusion matrix 시각화\n",
    "plt.figure(figsize=(10, 8))\n",
    "sns.heatmap(data=cm_train, annot=True, fmt='d', annot_kws={'size': 15}, cmap='Blues')\n",
    "plt.xlabel('Predicted', size=20)\n",
    "plt.ylabel('True', size=20)\n",
    "plt.show()\n",
    "\n",
    "# 평가지표 계산\n",
    "test_acc = accuracy_score(true_list, pred_list)\n",
    "test_rec = recall_score(true_list, pred_list, average='macro')\n",
    "test_prec = precision_score(true_list, pred_list, average='macro')\n",
    "test_f1 = f1_score(true_list, pred_list, average='macro')\n",
    "\n",
    "print('Test Accuracy   : {:.3f}'.format(test_acc))\n",
    "print('Test Sensitivity: {:.3f}'.format(test_rec))\n",
    "print('Test Precision  : {:.3f}'.format(test_prec))\n",
    "print('Test F1 Score   : {:.3f}'.format(test_f1))"
   ]
  },
  {
   "cell_type": "markdown",
   "id": "e5c0683e-0cdc-4bce-83e9-c8532e8149cc",
   "metadata": {},
   "source": [
    "## 1-4. 실제 데이터 이미지로 확인"
   ]
  },
  {
   "cell_type": "markdown",
   "id": "7e59ee79-d683-4bf0-b093-40adee7e3659",
   "metadata": {},
   "source": [
    "|레이블|클래스|\n",
    "|---|---|\n",
    "|0|T-shirt/top(티셔츠)|\n",
    "|1|Trouser(바지)|\n",
    "|2|Pullover(스웨터)|\n",
    "|3|Dress(드레스)|\n",
    "|4|Coat(코트)|\n",
    "|5|Sandal(샌들)|\n",
    "|6|Shirt(셔츠)|\n",
    "|7|Sneaker(운동화)|\n",
    "|8|Bag(가방)|\n",
    "|9|Ankel boot(발목부츠)|"
   ]
  },
  {
   "cell_type": "code",
   "execution_count": 20,
   "id": "ea49e53b-e0f0-4e91-9f13-f24e69151e94",
   "metadata": {},
   "outputs": [],
   "source": [
    "# test data에서 일부 이미지 선택 및 해당 레이블 확인\n",
    "test_data = test_dataset.data_X[:9]\n",
    "y_true = test_dataset.data_y[:9]\n",
    "\n",
    "# 모델의 출력값 계산\n",
    "y_logit = model(test_data)\n",
    "\n",
    "# 출력값을 최대로하는 인덱스(class) 저장\n",
    "y_pred = torch.argmax(y_logit, dim=1)\n",
    "\n",
    "# scaler 불러오기\n",
    "scaler = test_dataset.scaler\n",
    "\n",
    "# 정규화 제거 (-1 ~ 1 -> 0 ~ 255)\n",
    "test_data = scaler.inverse_transform(test_data)"
   ]
  },
  {
   "cell_type": "code",
   "execution_count": 21,
   "id": "669c6ac7-a99e-4020-af0a-1a1ab0f8db8c",
   "metadata": {},
   "outputs": [
    {
     "name": "stdout",
     "output_type": "stream",
     "text": [
      "예측값 출력\n",
      "tensor([[2, 5, 6],\n",
      "        [7, 5, 1],\n",
      "        [4, 5, 3]])\n",
      "실제값 출력\n",
      "tensor([[2, 7, 2],\n",
      "        [9, 7, 1],\n",
      "        [4, 5, 3]])\n"
     ]
    },
    {
     "data": {
      "image/png": "[encoded data removed]",
      "text/plain": [
       "<Figure size 720x720 with 9 Axes>"
      ]
     },
     "metadata": {
      "needs_background": "light"
     },
     "output_type": "display_data"
    }
   ],
   "source": [
    "# 예측값 출력\n",
    "print('예측값 출력')\n",
    "print(y_pred.reshape(3,3))\n",
    "\n",
    "print('실제값 출력')\n",
    "print(y_true.reshape(3,3))\n",
    "\n",
    "# test data 시각화\n",
    "fig ,axes = plt.subplots(3,3,figsize=(10,10))\n",
    "for i, ax in enumerate(axes.ravel()):\n",
    "    ax.imshow(test_data[i].reshape(28,28), cmap='gray')\n",
    "    ax.axis('off')\n",
    "plt.show()"
   ]
  },
  {
   "cell_type": "code",
   "execution_count": null,
   "id": "e60ee569-a76c-4f1b-be31-1df48caac6ff",
   "metadata": {},
   "outputs": [],
   "source": []
  }
 ],
 "metadata": {
  "interpreter": {
   "hash": "db3bff50f693da5399c2b51e7c4d16c9e5f0237a35e50e132e9ef2e5f1217c9c"
  },
  "kernelspec": {
   "display_name": "PyCharm (개인연구)",
   "language": "python",
   "name": "python3"
  },
  "language_info": {
   "codemirror_mode": {
    "name": "ipython",
    "version": 3
   },
   "file_extension": ".py",
   "mimetype": "text/x-python",
   "name": "python",
   "nbconvert_exporter": "python",
   "pygments_lexer": "ipython3",
   "version": "3.9.7"
  }
 },
 "nbformat": 4,
 "nbformat_minor": 5
}
